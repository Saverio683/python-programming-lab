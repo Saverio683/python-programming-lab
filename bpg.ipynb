{
 "cells": [
  {
   "cell_type": "markdown",
   "metadata": {},
   "source": [
    "# Sintassi"
   ]
  },
  {
   "cell_type": "code",
   "execution_count": null,
   "metadata": {},
   "outputs": [
    {
     "ename": "SyntaxError",
     "evalue": "invalid syntax (405479641.py, line 5)",
     "output_type": "error",
     "traceback": [
      "\u001b[0;36m  Cell \u001b[0;32mIn[5], line 5\u001b[0;36m\u001b[0m\n\u001b[0;31m    def __init__(self, other arguments):\u001b[0m\n\u001b[0m                             ^\u001b[0m\n\u001b[0;31mSyntaxError\u001b[0m\u001b[0;31m:\u001b[0m invalid syntax\n"
     ]
    }
   ],
   "source": [
    "from breezypythongui import EasyFrame\n",
    "\n",
    "class ApplicationName(EasyFrame):\n",
    "\n",
    "    def __init__(self, other arguments):\n",
    "\n",
    "        #Add window components to the window\n",
    "\n",
    "        #Initialize other instance variables\n",
    "\n",
    "    #Definitions of event handler methods\n",
    "\n",
    "ApplicationName().mainloop()"
   ]
  },
  {
   "cell_type": "markdown",
   "metadata": {},
   "source": [
    "# Creare una finestra"
   ]
  },
  {
   "cell_type": "code",
   "execution_count": 6,
   "metadata": {},
   "outputs": [],
   "source": [
    "class EmptyWindow(EasyFrame):\n",
    "\n",
    "    def __init__(self):\n",
    "\n",
    "        EasyFrame.__init__(self, title = \"An Empty Window\",\n",
    "\n",
    "                           width = 300, height = 150)\n",
    "\n",
    "EmptyWindow().mainloop()"
   ]
  },
  {
   "cell_type": "markdown",
   "metadata": {},
   "source": [
    "# Aggiungere componenti alla finestra"
   ]
  },
  {
   "cell_type": "markdown",
   "metadata": {},
   "source": [
    "Label"
   ]
  },
  {
   "cell_type": "code",
   "execution_count": null,
   "metadata": {},
   "outputs": [],
   "source": [
    "addLabel(text, row, column,\n",
    "\n",
    "         columnspan = 1, rowspan = 1,\n",
    "\n",
    "         sticky = N+W, font = None)"
   ]
  },
  {
   "cell_type": "markdown",
   "metadata": {},
   "source": [
    "Button"
   ]
  },
  {
   "cell_type": "code",
   "execution_count": null,
   "metadata": {},
   "outputs": [],
   "source": [
    "addButton(text, row, column,\n",
    "\n",
    "          columnspan = 1, rowspan = 1,\n",
    "\n",
    "          command = lambda: None,\n",
    "\n",
    "          state = NORMAL)"
   ]
  },
  {
   "cell_type": "markdown",
   "metadata": {},
   "source": [
    "Float Field"
   ]
  },
  {
   "cell_type": "code",
   "execution_count": null,
   "metadata": {},
   "outputs": [],
   "source": [
    "addFloatField(value, row, column,\n",
    "\n",
    "              columnspan = 1, rowspan = 1,\n",
    "\n",
    "              width = 20, sticky = N+E,\n",
    "\n",
    "              precision = None)"
   ]
  },
  {
   "cell_type": "markdown",
   "metadata": {},
   "source": [
    "Integer Field"
   ]
  },
  {
   "cell_type": "code",
   "execution_count": null,
   "metadata": {},
   "outputs": [],
   "source": [
    "addIntegerField(value, row, column,\n",
    "\n",
    "                columnspan = 1, rowspan = 1,\n",
    "\n",
    "                width = 10, sticky = N+E)"
   ]
  },
  {
   "cell_type": "markdown",
   "metadata": {},
   "source": [
    "Esempio"
   ]
  },
  {
   "cell_type": "code",
   "execution_count": null,
   "metadata": {},
   "outputs": [],
   "source": [
    "# Label and field for the income\n",
    "self.addLabel(text = \"Income\",\n",
    "              row = 0, column = 0)\n",
    "self.incomeField = self.addFloatField(value = 0.0,\n",
    "                                      row = 0,\n",
    "                                      column = 1)\n",
    " \n",
    "# The command button\n",
    "self.addButton(text = \"Compute\", row = 3, column = 0,\n",
    "               columnspan = 2, command = self.computeTax)"
   ]
  },
  {
   "cell_type": "markdown",
   "metadata": {},
   "source": [
    "In this application, each widget except for the command button occupies a single column and a single row in the grid. The command button occupies both columns in its row, because the programmer has specified its columnspan attribute as 2.\n",
    "#\n",
    "The example program saves a reference (self.incomeField) to the widget returned by the method addFloatField, whereas the methods addButton and addLabel are run simply to create and add widgets to the window. Generally, the __init__ method must establish such references only for widgets that will be used later in the program code. In this case, the field will be accessed for input data in the program’s event handler method.\n"
   ]
  },
  {
   "cell_type": "markdown",
   "metadata": {},
   "source": [
    "__Note__\n",
    "- The required arguments (those without default values) to these methods include an initial value to be displayed in the widget, as well the row and column where the widget is to go in the window’s grid.\n",
    "\n",
    "- The rows and columns in the grid are numbered from 0. Thus, the grid position (0, 0) would lie in the upper left corner of the window. The tax calculator window’s grid has four rows of two columns each, as shown here:\n",
    "\n",
    "- Along with a grid position and extent, a widget also has a sticky attribute. This attribute indicates the alignment of a widget within its grid cell, when the cell area is larger than the widget itself. The default values of this attribute are NW and NE for labels and entry fields, respectively, because a label is often placed to the left of a field. But these alignments can be overridden when the widgets are added to a window.\n",
    "\n",
    "- Each type of entry field has a default width attribute. This represents the number of characters that will be visible within the field. The float field also has a precision attribute allowing the programmer to specify the number of places to display to the right of a number’s decimal point. The label has a font attribute and the button has command and state attributes. The roles of these attributes will become clear in later examples.\n"
   ]
  },
  {
   "cell_type": "markdown",
   "metadata": {},
   "source": [
    "# Command buttons and event handlers"
   ]
  },
  {
   "cell_type": "markdown",
   "metadata": {},
   "source": [
    "Each command button has associated with it a method that is triggered when the user selects that button. breezypythongui provides a default event handler method that does nothing. However, an application normally supplies its own event handler method as an argument when a button is added to the window. The programmer must then define this method in the application window’s class. Here is the code for associating an event handler method with the command button in the tax calculator program:"
   ]
  },
  {
   "cell_type": "code",
   "execution_count": null,
   "metadata": {},
   "outputs": [],
   "source": [
    "def __init__(self):\n",
    "    .\n",
    "    .\n",
    "    # Add the command button\n",
    "    self.addButton(text = \"Compute\", row = 3, column = 0,\n",
    "                   columnspan = 2, command = self.computeTax)\n",
    " \n",
    "# The event handler method for the button\n",
    "def computeTax(self):\n",
    "    \"\"\"Obtains the data from the input fields and uses\n",
    "    them to compute the tax, which is sent to the\n",
    "    output field.\"\"\"\n",
    "    income = self.incomeField.getNumber()\n",
    "    numDependents = self.depField.getNumber()\n",
    "    exemptionAmount = self.exeField.getNumber()\n",
    "    tax = (income - numDependents * exemptionAmount) * .15\n",
    "    self.taxField.setNumber(tax)"
   ]
  },
  {
   "cell_type": "markdown",
   "metadata": {},
   "source": [
    "If an application needs more than one command button, each button is added to the window in the \\_\\_init\\_\\_ method. The programmer should then define a separate event handler method for each button."
   ]
  },
  {
   "cell_type": "markdown",
   "metadata": {},
   "source": [
    "# Input and output with data entry fields\n",
    "- IntegerField\n",
    "- FloatField\n",
    "- TextField\n",
    "#\n",
    "As the names imply, each type of field is suited for the input and output of a specific type of data. In the case of the numeric fields, conversion between numbers and text is handled internally within the field object. Thus, the input method getNumber returns a number, whereas the output method setNumber expects a numeric argument, when used with the numeric fields. The FloatField method setPrecision is available to modify the precision used to display numbers. The methods getText and setText are used to read and write strings with text fields."
   ]
  },
  {
   "cell_type": "markdown",
   "metadata": {},
   "source": [
    "IntegerField & FloatField\n",
    "- getNumber() # returns (as input) the number contained in the field\n",
    "- setNumber(number) # outputs the number to the field\n",
    "#\n",
    "FloatField\n",
    "- setPrecision(width) # sets the number of digits to display to the right of the decimal point\n",
    "#\n",
    "TextField\n",
    "- getText() # returns (as input) the string contained in the field\n",
    "- setText(text) # outputs the string to the field"
   ]
  },
  {
   "cell_type": "markdown",
   "metadata": {},
   "source": [
    "To make a data field output only, to prevent the user from editing its contents, the programmer can set its state attribute to the tkinter constant \"*readonly*\""
   ]
  },
  {
   "cell_type": "markdown",
   "metadata": {},
   "source": [
    "The input method getNumber raises an exception if the user has intered a number with an invalid format (such as bad digits). This type of error can be trapped under program control with a *try-except* statement "
   ]
  },
  {
   "cell_type": "code",
   "execution_count": null,
   "metadata": {},
   "outputs": [],
   "source": [
    "from breezypythongui import EasyFrame\n",
    "from tkinter import PhotoImage, N, S, W, E\n",
    "from tkinter.font import Font\n",
    " \n",
    "class ImageDemo(EasyFrame):\n",
    "    \"\"\"Displays an image and a caption.\"\"\"\n",
    " \n",
    "    def __init__(self):\n",
    "        \"\"\"Sets up the window and widgets.\"\"\"\n",
    "        EasyFrame.__init__(self, title = \"Image Demo\")\n",
    "        imageLabel = self.addLabel(text = \"\",\n",
    "                                   row = 0, column = 0,\n",
    "                                   sticky = N+S+W+E)\n",
    " \n",
    "        textLabel = self.addLabel(text = \"Smokey the cat\",\n",
    "                                  row = 1, column = 0,\n",
    "                                  sticky = N+S+W+E)\n",
    " \n",
    "        # Load the image and associate it with the image label.\n",
    "        self.image = PhotoImage(file = \"micio.png\")\n",
    "        imageLabel[\"image\"] = self.image\n",
    " \n",
    "        # Set the font and color of the caption.\n",
    "        font = Font(family = \"Verdana\", size = 20, slant = \"italic\")\n",
    "        textLabel[\"font\"] = font\n",
    "        textLabel[\"foreground\"] = \"blue\"\n",
    " \n",
    "#Instantiate and pop up the window.\n",
    "ImageDemo().mainloop()"
   ]
  },
  {
   "cell_type": "markdown",
   "metadata": {},
   "source": [
    "Note that this program must import the PhotoImage and Font classes and the constants N, S, W, and E from the relevant tkinter modules.  These constants are used to center the two labels in their respective grid cells, overriding the default placement of a label to the northwest."
   ]
  },
  {
   "cell_type": "markdown",
   "metadata": {},
   "source": [
    "# Message boxes\n",
    "A message box can be used to announce a significant event, such as a user input error. One place where this might occur is when the program attempts to get a number from a numeric entry field. If the user’s input text cannot be converted to a number, the getNumber method raises a ValueError. A robust application can respond with a standard try-except pattern, which pops up a message box and allows her to try again. The next code segment shows the event handler from a circle area program that recovers from both number format errors and invalid radius errors."
   ]
  },
  {
   "cell_type": "code",
   "execution_count": null,
   "metadata": {},
   "outputs": [],
   "source": [
    "def computeArea(self):\n",
    "    \"\"\"Inputs the radius, computes the area,\n",
    "    and outputs the area.  Responds to number format\n",
    "    errors and to invalid data errors (input < 0) with\n",
    "    message boxes.\"\"\"\n",
    "    try:\n",
    "        radius = self.radiusField.getNumber()\n",
    "        if radius < 0: self.messageBox(title = \"ERROR\", message = \"Radius must be >= 0.\")\n",
    "        else:\n",
    "            area = radius ** 2 * math.pi\n",
    "            self.areaField.setNumber(area)\n",
    "    except ValueError:\n",
    "            self.messageBox(title = \"ERROR\",\n",
    "                            message = \"Radius must be a number.\")\n"
   ]
  },
  {
   "cell_type": "markdown",
   "metadata": {},
   "source": [
    "# Drop-down menus\n",
    "Drop-down menus help to organize and reduce the clutter of command options.  GUI-based programs add labeled menus to a menu bar, and then add labeled command options to a menu.  In a breezypythongui application, the programmer can add menu bars with several menus each to any positions in the window’s grid.\n",
    "\n",
    "The next code segment adds a simple File menu, with the options New, Open, and Save, to the first row in the window."
   ]
  },
  {
   "cell_type": "code",
   "execution_count": null,
   "metadata": {},
   "outputs": [],
   "source": [
    "# Add the menu bar for the two menus\n",
    "menuBar = self.addMenuBar(row = 0, column = 0)\n",
    " \n",
    "# Add the File menu\n",
    "fileMenu = menuBar.addMenu(\"File\", row = 0, column = 0)\n",
    "   \n",
    "# Add the command options for the File menu\n",
    "fileMenu.addMenuCommand(\"New\",  self.newSelected)\n",
    "fileMenu.addMenuCommand(\"Open\", self.openSelected)\n",
    "fileMenu.addMenuCommand(\"Save\", self.saveSelected)"
   ]
  },
  {
   "cell_type": "markdown",
   "metadata": {},
   "source": [
    "Note that the pattern for adding command options to a menu is similar to the one shown earlier for buttons.  Each menu command has a name and an event handler method associated with it.  When the user selects a name in a drop-down menu, the associated event handler method is triggered."
   ]
  },
  {
   "cell_type": "markdown",
   "metadata": {},
   "source": [
    "# Text Areas\n",
    "A text area can display multiple lines of text.  When the text extends beyond the borders of the widget, the user can view it by manipulating vertical and horizontal scroll bars."
   ]
  },
  {
   "cell_type": "code",
   "execution_count": null,
   "metadata": {},
   "outputs": [],
   "source": [
    "# Add the text area to the window (in __init__)\n",
    "\n",
    "self.outputArea = self.addTextArea(\"\", row = 4, column = 0,\n",
    "\n",
    "                                    columnspan = 2,\n",
    "\n",
    "                                    width = 50, height = 15)"
   ]
  },
  {
   "cell_type": "markdown",
   "metadata": {},
   "source": [
    "Note that the text area stretches across two columns in the last row, and has a width and height specified in characters.  Scroll bars allow the user to view text that extends beyond the visible boundaries of the text area. \n",
    "\n",
    "An important attribute of a text area is wrap, whose value is NONE by default.  This means that a line of text can continue beyond the right border of the text area without wrapping around to the next line.  The other possible values of wrap are WORD and CHAR (all of these values are tkinter constants).  The text area in the example program leaves wrap off.\n",
    "\n",
    "The event handler method for the Compute button takes the inputs from the fields and produces an output string to display in the text area. "
   ]
  },
  {
   "cell_type": "code",
   "execution_count": null,
   "metadata": {},
   "outputs": [],
   "source": [
    "def compute(self):\n",
    "\n",
    "    \"\"\"Computes the investment schedule based on the inputs.\"\"\"\n",
    "\n",
    "    # Obtain and validate the inputs\n",
    "\n",
    "    startBalance = self.amount.getNumber()\n",
    "\n",
    "    rate = self.rate.getNumber() / 100\n",
    "\n",
    "    years = self.period.getNumber()\n",
    "\n",
    "    if startBalance == 0 or rate == 0 or years == 0:\n",
    "\n",
    "        return\n",
    "\n",
    " \n",
    "\n",
    "    totalInterest = 0.0\n",
    "\n",
    "    # Set the header for the table\n",
    "\n",
    "    result = \"%4s%18s%10s%16s\\n\" % (\"Year\", \"Starting balance\",\n",
    "\n",
    "                                  \"Interest\", \"Ending balance\")\n",
    "\n",
    " \n",
    "\n",
    "    # Compute and append the results for each year\n",
    "\n",
    "    for year in range(1, years + 1):\n",
    "\n",
    "        interest = startBalance * rate\n",
    "\n",
    "        endBalance = startBalance + interest\n",
    "\n",
    "        result += \"%4d%18.2f%10.2f%16.2f\\n\" % (year, startBalance, interest, endBalance)\n",
    "\n",
    "        startBalance = endBalance\n",
    "\n",
    "        totalInterest += interest\n",
    "\n",
    " \n",
    "\n",
    "    # Append the totals for the period\n",
    "\n",
    "    result += \"Ending balance: $%0.2f\\n\" % endBalance\n",
    "\n",
    "    result += \"Total interest earned: $%0.2f\\n\" % totalInterest\n",
    "\n",
    " \n",
    "\n",
    "    self.outputArea.setText(result)"
   ]
  },
  {
   "cell_type": "markdown",
   "metadata": {},
   "source": [
    "In addition to the getText and setText methods, the TextArea class includes an appendText method, which adds text to the end of the existing text rather than replacing it. "
   ]
  },
  {
   "cell_type": "markdown",
   "metadata": {},
   "source": [
    "# Scrolling list boxes\n",
    "Applications such as the iTunes® browser present lists of items in (multiple) scrolling boxes.  When the user selects an item in a scrolling list box, information might then be updated in other areas of the window, and the user can select a command to remove or rename the selected item, among other things."
   ]
  },
  {
   "cell_type": "markdown",
   "metadata": {},
   "source": [
    "The selected fruit is also displayed in a text field, as is its index position (counting from 0) in the list.  The user can enter a new fruit name in the input field and add it to the list by pressing the Add button.  Pressing Remove deletes the selected fruit from the list and updates the display fields.  When the last remaining fruit is deleted, the Remove button is disabled to prevent further deletions.\n",
    "#\n",
    "Although the user’s interactions with this application in this are fairly simple, the code that supports it is rather complicated.  Therefore, the program’s functions are best discussed in small pieces. \n",
    "#\n",
    "The the \\_\\_init\\_\\_ method sets up the widgets for the program’s window, as usual."
   ]
  },
  {
   "cell_type": "code",
   "execution_count": null,
   "metadata": {},
   "outputs": [],
   "source": [
    "# Set up the list box\n",
    "\n",
    "# Note the event handler parameter for selecting a list item\n",
    "\n",
    "self.listBox = self.addListbox(row = 0, column = 0, rowspan = 4,\n",
    "\n",
    "                              listItemSelected = self.listItemSelected)\n",
    "\n",
    " \n",
    "\n",
    "# Add some items to the list box and select the first one\n",
    "\n",
    "self.listBox.insert(END, \"Apple\")\n",
    "\n",
    "self.listBox.insert(END, \"Banana\")\n",
    "\n",
    "self.listBox.insert(END, \"Cherry\")\n",
    "\n",
    "self.listBox.insert(END, \"Orange\")\n",
    "\n",
    "self.listBox.setSelectedIndex(0)\n",
    "\n",
    " \n",
    "\n",
    "# Set up the labels, fields, and buttons\n",
    "\n",
    "self.addLabel(text = \"Input\", row = 0, column = 1)\n",
    "\n",
    "self.addLabel(text = \"Index\", row = 1, column = 1)\n",
    "\n",
    "self.addLabel(text = \"Current item\", row = 2, column = 1)\n",
    "\n",
    "self.inputField = self.addTextField(text = \"\", row = 0,\n",
    "\n",
    "                                    column = 2, width = 10)\n",
    "\n",
    "self.indexField = self.addIntegerField(value = \"\", row = 1,\n",
    "\n",
    "                                       column = 2, width = 10)\n",
    "\n",
    "self.itemField = self.addTextField(text = \"\", row = 2,\n",
    "\n",
    "                                   column = 2, width = 10)\n",
    "\n",
    "self.addButton(text = \"Add\", row = 3,\n",
    "\n",
    "               column = 1, command = self.add)\n",
    "\n",
    "self.removeButton = self.addButton(text = \"Remove\", row = 3,\n",
    "\n",
    "                                   column = 2, command = self.remove)\n",
    "\n",
    " \n",
    "\n",
    "# Display current index and currently selected item\n",
    "\n",
    "self.listItemSelected(0)"
   ]
  },
  {
   "cell_type": "markdown",
   "metadata": {},
   "source": [
    "The method addListbox creates a list box and adds it to the window.  This method also returns the new list box as an object of the class EasyListbox, an extension of the class tkinter.Listbox. \n",
    "\n",
    "When a list box is added to the window with breezypythongui, the programmer can supply an event handler method, in this case, the method listItemSelected.  This method will be triggered when the user selects an item in the list box.  The application should define this method to expect one argument.  When the method is triggered, it will receive the index of the selected item as this argument.  Note that application also calls this method as the final step in the setup code.\n",
    "\n",
    "A list box may be initially empty, but this application adds four strings to it.  The Listbox method insert expects and integer position and a string as arguments.  The string is inserted before an item at that position in the list box, if that item exists.  The use of the tkinter constant END for this position places the string at the end of the current list.  The setup code also selects an item in the list box, using the method setSelectedIndex.\n",
    "\n",
    "The rest of the setup code adds labels, text fields, and command buttons to the window in the usual manner.\n",
    "\n",
    "When the user selects an item in the list box, the item’s index is passed to listItemSelected method.  This method responds to a button click in the list box by updating the index and item fields with the item’s index and name.  The EasyListbox method getSelectedItem returns the currently selected item."
   ]
  },
  {
   "cell_type": "code",
   "execution_count": null,
   "metadata": {},
   "outputs": [],
   "source": [
    "def listItemSelected(self, index):\n",
    "\n",
    "    \"\"\"Responds to the selection of an item in the list box.\n",
    "\n",
    "    Updates the fields with the current item and its index.\"\"\"\n",
    "\n",
    "    self.indexField.setNumber(index)\n",
    "\n",
    "    self.itemField.setText(self.listBox.getSelectedItem())"
   ]
  },
  {
   "cell_type": "markdown",
   "metadata": {},
   "source": [
    "When the user presses the Add button, the add method is triggered.  If the input field is empty, this method does nothing.  Otherwise, there are two cases.  If the list box is empty (no item is selected), then the input field’s text is inserted at position 0 in the list, this position is selected, the fields are updated, and the Remove button is enabled.  Otherwise, the input field’s text is inserted before the currently selected item and the index field is updated (the selected item’s position has been incremented by 1).  Finally, if an item has been added to the list, the input field is cleared."
   ]
  },
  {
   "cell_type": "code",
   "execution_count": null,
   "metadata": {},
   "outputs": [],
   "source": [
    "def add(self):\n",
    "\n",
    "        \"\"\"If an input is present, insert it before the selected\n",
    "\n",
    "        item in the list box.  The selected item remains current.\n",
    "\n",
    "        If the first item is added, select it and enable the\n",
    "\n",
    "        remove button.\"\"\"\n",
    "\n",
    "        item = self.inputField.getText()\n",
    "\n",
    "        if item != \"\":\n",
    "\n",
    "            index = self.listBox.getSelectedIndex()\n",
    "\n",
    "            if index == -1:\n",
    "\n",
    "                self.listBox.insert(0, item)\n",
    "\n",
    "                self.listBox.setSelectedIndex(0)\n",
    "\n",
    "                self.listItemSelected(0)\n",
    "\n",
    "                self.removeButton[\"state\"] = NORMAL\n",
    "\n",
    "            else:\n",
    "\n",
    "                self.listBox.insert(index, item)\n",
    "\n",
    "                self.listItemSelected(index + 1)\n",
    "\n",
    "            self.inputField.setText(\"\")"
   ]
  },
  {
   "cell_type": "markdown",
   "metadata": {},
   "source": [
    "When the user presses the Remove button, the remove method is triggered.   Because the button is enabled only when the list box is not empty, the remove method does not have to consider the case of an empty list.  The method begins by getting the index of the selected item and passing the index to the Listbox method delete.  Then there are three cases to consider when updating the contents of the window.  If the list box is now empty, the item field is cleared, the index field is set to -1, and the Remove button is disabled.  Otherwise, if the deleted item was the first one in the list, the item following it is selected.  Otherwise, the item before it is selected.  In the latter two cases, the contents of the index field do not change, but the item field is updated."
   ]
  },
  {
   "cell_type": "code",
   "execution_count": null,
   "metadata": {},
   "outputs": [],
   "source": [
    "def remove(self):\n",
    "\n",
    "    \"\"\"If there are items in the list, remove\n",
    "\n",
    "    the selected item, select previous one,\n",
    "\n",
    "    and update the fields.  If there was no previous\n",
    "\n",
    "    item, select the next one.  If the last item is\n",
    "\n",
    "    removed, disable the remove button.\"\"\"\n",
    "\n",
    "    index = self.listBox.getSelectedIndex()\n",
    "\n",
    "    self.listBox.delete(index)\n",
    "\n",
    "    if self.listBox.size() > 0:\n",
    "\n",
    "        if index > 0:\n",
    "\n",
    "            index -= 1\n",
    "\n",
    "        self.listBox.setSelectedIndex(index)\n",
    "\n",
    "        self.listItemSelected(index)\n",
    "\n",
    "    else:\n",
    "\n",
    "        self.listItemSelected(-1)\n",
    "\n",
    "        self.removeButton[\"state\"] = DISABLED"
   ]
  },
  {
   "cell_type": "markdown",
   "metadata": {},
   "source": [
    "# Summary of methods to manipulate a list box"
   ]
  },
  {
   "cell_type": "markdown",
   "metadata": {},
   "source": [
    "**insert(index, item)**\n",
    "- Inserts the item before the given position in the list box.  When index is tkinter.END, the item goes at the end of the list box.\n",
    "\n",
    "**delete(index)**\n",
    "- Removes the item at index from the list box.\n",
    "\n",
    "**size()**\n",
    "- Returns the number of items in the list box.\n",
    "\n",
    "**getSelectedIndex()**\n",
    "- Returns the index of the selected item, or   -1 if no item is selected or the list box is empty.\n",
    "\n",
    "**setSelectedIndex(index)**\n",
    "- Selects the item at index in the list box.\n",
    "\n",
    "**getSelectedItem()**\n",
    "- Returns the selected item in the list box.\n",
    "\n",
    " "
   ]
  },
  {
   "cell_type": "markdown",
   "metadata": {},
   "source": [
    "# Radio Buttons\n",
    "Radio buttons provide a user with a way to select one of a number of labeled options displayed simultaneously in a window.  The next codes show two program windows that allow the user to select his academic class.  When one button is selected, the other three are deselected.  When the user presses the Display button, the program determines which radio button is currently selected and displays its label in the text field.  The window on the left aligns the radio buttons vertically, whereas the window on the right aligns the buttons horizontally.\n",
    "#\n",
    "Radio buttons belong to a radio button group.  The programmer first adds a radio button group to the window, and then adds each radio button to the group.  The alignment of buttons in a group is vertical by default, but can be overridden to horizontal when the group is added.  The radio buttons will appear in their group in the order in which they are added. "
   ]
  },
  {
   "cell_type": "code",
   "execution_count": null,
   "metadata": {},
   "outputs": [],
   "source": [
    "from breezypythongui import EasyFrame\n",
    "\n",
    "from tkinter import HORIZONTAL\n",
    "\n",
    "\n",
    "class RadioButtonDemo(EasyFrame):\n",
    "\n",
    "    \"\"\"When the Display button is pressed, shows the label\n",
    "\n",
    "    of the selected radio button.  The button group has a\n",
    "\n",
    "    horizontal alignment.\"\"\"\n",
    "\n",
    "   \n",
    "    def __init__(self):\n",
    "\n",
    "        \"\"\"Sets up the window and widgets.\"\"\"\n",
    "\n",
    "        EasyFrame.__init__(self, \"Radio Button Demo\")\n",
    "\n",
    "\n",
    "        # Add the button group\n",
    "\n",
    "        self.group = self.addRadioButtonGroup(row = 1, column = 0,\n",
    "\n",
    "                                              columnspan = 4,\n",
    "\n",
    "                                              orient = HORIZONTAL)\n",
    "\n",
    "\n",
    "        # Add the radio buttons to the group\n",
    "\n",
    "        self.group.addRadiobutton(\"Freshman\")\n",
    "\n",
    "        self.group.addRadiobutton(\"Sophomore\")\n",
    "\n",
    "        self.group.addRadiobutton(\"Junior\")\n",
    "\n",
    "        defaultRB = self.group.addRadiobutton(\"Senior\")\n",
    "\n",
    "\n",
    "        # Select one of the buttons in the group\n",
    "\n",
    "        self.group.setSelectedButton(defaultRB)\n",
    "\n",
    "\n",
    "        # Output field and command button for the results\n",
    "\n",
    "        self.output = self.addTextField(\"\", row = 0, column = 1)\n",
    "\n",
    "        self.addButton(\"Display\", row = 0, column = 0,\n",
    "\n",
    "                       command = self.display)\n",
    "\n",
    "    # Event handling method\n",
    "\n",
    "    def display(self):\n",
    "\n",
    "        \"\"\"Displays the selected button's label in the text field.\"\"\"\n",
    "\n",
    "    self.output.setText(self.group.getSelectedButton()[\"value\"])\n",
    "\n",
    " "
   ]
  },
  {
   "cell_type": "markdown",
   "metadata": {},
   "source": [
    "A radio button has two important attributes, named label (the string argument to the addRadioButton method) and value.  When a radio button is added to a group, these two attributes are given the same value.  When the user selects a radio button, the button group records that buttonÔøΩs value attribute.  This enables the getSelectedButton method to return the groupÔøΩs currently selected button to the application.  The setSelectedButton method enables the application to select a button under program control.  In the example program shown earlier, the value attribute of the selected button is sent to a text field for display.  While the two attributes can be examined and reset, an application really should only examine them."
   ]
  },
  {
   "cell_type": "markdown",
   "metadata": {},
   "source": [
    "# Sliding Scales\n",
    "A sliding scale (called a \"scale\" in Python and a \"slider\" in Java) allows the user to select a number by dragging a slider bar through an interval or range of values.  The interval can include integers or floating-point numbers.  The breezypythongui method addScale creates a new object of type Scale, adds it to the window, and returns the sliding scale object.  The row and column are, as usual, required attributes."
   ]
  },
  {
   "cell_type": "code",
   "execution_count": null,
   "metadata": {},
   "outputs": [],
   "source": [
    "from breezypythongui import EasyFrame\n",
    "\n",
    "import math\n",
    "\n",
    " \n",
    "\n",
    "class CircleArea(EasyFrame):\n",
    "\n",
    " \n",
    "\n",
    "    def __init__(self):\n",
    "\n",
    "        \"\"\"Sets up the window and widgets.\"\"\"\n",
    "\n",
    "        EasyFrame.__init__(self, title = \"Circle Area\")\n",
    "\n",
    " \n",
    "\n",
    "        # Label and field for the area\n",
    "\n",
    "        self.addLabel(text = \"Area\",\n",
    "\n",
    "                      row = 0, column = 0)\n",
    "\n",
    "        self.areaField = self.addFloatField(value = 0.0,\n",
    "\n",
    "                                            row = 0,\n",
    "\n",
    "                                            column = 1,\n",
    "\n",
    "                                            width = 20)\n",
    "\n",
    " \n",
    "\n",
    "        # Sliding scale for the radius\n",
    "\n",
    "        self.radiusScale = self.addScale(label = \"Radius\",\n",
    "\n",
    "                                         row = 1, column = 0,\n",
    "\n",
    "                                         columnspan = 2,\n",
    "\n",
    "                                         from_ = 0, to = 100,\n",
    "\n",
    "                                         length = 300,\n",
    "\n",
    "                                         tickinterval = 10,\n",
    "\n",
    "                                         command = self.computeArea)\n",
    "\n",
    " \n",
    "\n",
    " \n",
    "\n",
    "    # The event handler method for the sliding scale\n",
    "\n",
    "    def computeArea(self, radius):\n",
    "\n",
    "        \"\"\"Inputs the radius, computes the area,\n",
    "\n",
    "        and outputs the area.\"\"\"\n",
    "\n",
    "        # radius is the current value of the scale, as a string.\n",
    "\n",
    "        area = float(radius) ** 2 * math.pi\n",
    "\n",
    "        self.areaField.setNumber(area)\n",
    "\n",
    " \n",
    "\n",
    "# Instantiate and pop up the window.\n",
    "\n",
    "CircleArea().mainloop()"
   ]
  },
  {
   "cell_type": "markdown",
   "metadata": {},
   "source": [
    "Python’s Scale class also includes the methods get and set.  The method get takes no arguments and returns the sliding scale’s current value, as a number.  The method set expects a numeric argument and resets the sliding scale’s value to it.\n",
    "\n",
    " "
   ]
  },
  {
   "cell_type": "markdown",
   "metadata": {},
   "source": [
    "# Organizing Widgets with Panels\n",
    "While a two-dimensional grid serves well for laying out widgets in most application windows, there are occasions where the widgets just don’t line up properly.  For example, consider a window with pairs of labels and entry fields in the first two rows, and three buttons in the third row.\n",
    "\n",
    "Because each widget must occupy a column in the window’s grid, a third column is necessary for the rightmost button, thereby causing a ragged appearance in the example window.  This problem could be fixed by stretching either the labels or the fields across two columns in the rows above, but this may cause alignment issues within those rows.\n",
    "\n",
    "A better strategy is to add a single rectangular area called a panel to the third row, stretching it across all three columns.  Each button is then added to this panel."
   ]
  },
  {
   "cell_type": "markdown",
   "metadata": {},
   "source": [
    "The code for this program adds the labels and fields to the window’s grid, as before.  However, it now adds a panel to the third row, before adding the three buttons to the panel.  Here is the code for the window setup:"
   ]
  },
  {
   "cell_type": "code",
   "execution_count": null,
   "metadata": {},
   "outputs": [],
   "source": [
    "EasyFrame.__init__(self, title = \"Sphere Attributes\")\n",
    "\n",
    " \n",
    "\n",
    "# Label and field for the radius\n",
    "\n",
    "self.addLabel(text = \"Radius\",\n",
    "\n",
    "              row = 0, column = 0)\n",
    "\n",
    "self.radiusField = self.addFloatField(value = 0.0,\n",
    "\n",
    "                                      row = 0,\n",
    "\n",
    "                                      column = 1)\n",
    "\n",
    " \n",
    "\n",
    "# Label and field for the output\n",
    "\n",
    "self.outputLabel = self.addLabel(text = \"Diameter\",\n",
    "\n",
    "                                 row = 1, column = 0)\n",
    "\n",
    "self.outputField = self.addFloatField(value = 0.0,\n",
    "\n",
    "                                      row = 1,\n",
    "\n",
    "                                      column = 1)\n",
    "\n",
    "# Panel for the command buttons\n",
    "\n",
    "buttonPanel = self.addPanel(row = 2, column = 0,\n",
    "\n",
    "                            columnspan = 2)\n",
    "\n",
    " \n",
    "\n",
    "# The command buttons\n",
    "\n",
    "buttonPanel.addButton(text = \"Diameter\",\n",
    "\n",
    "                      row = 0, column = 0,\n",
    "\n",
    "                      command = self.computeDiameter)\n",
    "\n",
    "buttonPanel.addButton(text = \"Area\",\n",
    "\n",
    "                      row = 0, column = 1,\n",
    "\n",
    "                      command = self.computeArea)\n",
    "\n",
    "buttonPanel.addButton(text = \"Volume\",\n",
    "\n",
    "                      row = 0, column = 2,\n",
    "\n",
    "                      command = self.computeVolume)"
   ]
  },
  {
   "cell_type": "markdown",
   "metadata": {},
   "source": [
    "Note that the panel’s column span of 2 equals the number of columns in the window’s grid, whereas the buttons added to the panel are placed in three columns in panel's own grid.  Alternatively, we could have created a panel, stretched across three columns and one row, for the pairs of labels and fields, and kept the buttons in the window’s grid.\n",
    "\n",
    "A panel’s background color can be set when it is created, or modified later. A panel is an instance of the class EasyPanel, which is a subclass of tkinter.Frame.  Thus, all of the Frame methods also apply to objects of this type. \n",
    "\n",
    "The programmer can add any widget to a panel that can be added to an application window, including other panels. The following window shows a set of colored panels, organized in a window’s 4 by 3 grid.  The rightmost panel contains two nested panels (black and gray).\n",
    "\n",
    " "
   ]
  },
  {
   "cell_type": "code",
   "execution_count": null,
   "metadata": {},
   "outputs": [],
   "source": [
    "EasyFrame.__init__(self, title = \"Panel Demo\",\n",
    "\n",
    "                   width = 400, height = 400)\n",
    "\n",
    " \n",
    "\n",
    "# Add panels to the main frame (4 rows by 3 columns)\n",
    "\n",
    "self.addPanel(row = 0, column = 0, background = \"red\")\n",
    "\n",
    "self.addPanel(row = 1, column = 0, background = \"green\")\n",
    "\n",
    "self.addPanel(row = 2, column = 0, background = \"blue\")\n",
    "\n",
    "self.addPanel(row = 3, column = 0, background = \"yellow\",\n",
    "\n",
    "              columnspan = 3)\n",
    "\n",
    "self.addPanel(row = 0, column = 1, background = \"pink\",\n",
    "\n",
    "              rowspan = 3)\n",
    "\n",
    "panel = self.addPanel(row = 0, column = 2,\n",
    "\n",
    "                      rowspan = 3)\n",
    "\n",
    "# Add nested panels to the rightmost panel\n",
    "\n",
    "panel.addPanel(row = 0, column = 0, background = \"black\")\n",
    "\n",
    "panel.addPanel(row = 1, column = 0, background = \"gray\")\n",
    "\n",
    " "
   ]
  },
  {
   "cell_type": "markdown",
   "metadata": {},
   "source": [
    "# Simple Graphics\n",
    "A canvas is a rectangular area within a window in which the programmer can perform graphics operations, such as drawing geometric shapes, text, and so forth.  A canvas can also detect mouse events, such as button presses and releases, mouse cursor movement, and mouse dragging (pressing mouse button and moving the mouse cursor simultaneously).  Canvases are useful for decorating windows, displaying graphs and charts, developing interactive sketchpads, and other graphics-based applications.\n",
    "\n",
    "A canvas uses a screen coordinate system.  Unlike the Cartesian coordinate system, the origin (0,0) for screen coordinates is in the upper left corner of the drawing area.  The x-axis and is at the top boundary of the canvas and the y-axis is its the left boundary.  The x values increase to the right, as usual, but the y values increase to the bottom.  For example, the point (50, 50) is located 50 pixels to the right of the y-axis and 50 pixels below the x-axis.  Negative coordinates exist but are not viewable outside of the boundaries of a canvas.  The window can be resized to view positive coordinates that lie beyond the current right and bottom boundaries of a canvas.\n",
    "\n",
    "The primary canvas resource in breezypythongui is the EasyCanvas class.  This class provides all of the capabilities of Python’s tkinter.canvas, as well as some useful extensions.  These extensions allow the beginner to draw simple geometric shapes and text, as well as respond to mouse events. \n",
    "\n",
    "There are two basic design patterns for adding canvasses to an application.  The first pattern works well for applications that simply draw shapes or other graphical outputs to a canvas.  In this pattern, the application adds a canvas to the window and runs methods to draw on it.  For example, a simple demo application allows the user to draw filled blue ovals and red text messages at random positions on a gray canvas.  The window shown in the next screen shot places the canvas across the top row, above three command buttons labeled Draw oval, Draw text, and Clear all.  The last button deletes and erases all of the drawings on the canvas."
   ]
  },
  {
   "cell_type": "markdown",
   "metadata": {},
   "source": [
    "The next code segment shows the \\_\\_init\\_\\_ method for the demo program.  This method adds a canvas to the top row of the window.  Although the canvas technically extends beyond the window, the program gives it displayed dimensions of 400 by 200 pixels and allows the initial window to shrink-wrap around it. The background color of the canvas is then set to gray, and the three command buttons are added.  \n",
    "\n",
    "Finally, the program creates a list to hold the IDs of the items drawn on the canvas. These will be needed later if the user chooses to clear the canvas, alter the items’ positions, and so forth. "
   ]
  },
  {
   "cell_type": "code",
   "execution_count": null,
   "metadata": {},
   "outputs": [],
   "source": [
    "def __init__(self):\n",
    "\n",
    "    \"\"\"Sets up the window and widgets.\"\"\"\n",
    "\n",
    "    EasyFrame.__init__(self, title = \"Canvas Demo 1\")\n",
    "\n",
    " \n",
    "\n",
    "    # Canvas\n",
    "\n",
    "    self.canvas = self.addCanvas(row = 0, column = 0,\n",
    "\n",
    "                                 columnspan = 3,\n",
    "\n",
    "                                 width = 400, height = 200)\n",
    "\n",
    "    self.canvas[\"background\"] = \"gray\"\n",
    "\n",
    "       \n",
    "\n",
    "    # Command buttons\n",
    "\n",
    "    self.ovalButton = self.addButton(text = \"Draw oval\",\n",
    "\n",
    "                                     row = 1, column = 0,\n",
    "\n",
    "                                     command = self.drawOval)\n",
    "\n",
    "    self.textButton = self.addButton(text = \"Draw text\",\n",
    "\n",
    "                                     row = 1, column = 1,\n",
    "\n",
    "                                     command = self.drawText)\n",
    "\n",
    "     \n",
    "\n",
    "    self.clearButton = self.addButton(text = \"Clear all\",\n",
    "\n",
    "                                      row = 1, column = 2,\n",
    "\n",
    "                                      command = self.clearAll)\n",
    "\n",
    "       \n",
    "\n",
    "    # Holds the IDs of the items after they're drawn\n",
    "\n",
    "    self.items = list()\n"
   ]
  },
  {
   "cell_type": "markdown",
   "metadata": {},
   "source": [
    "The event handler methods for the command buttons run methods on the canvas to draw an oval, draw the string \"Hello world!\" or erase all of the items from the canvas.  The next code segment lists these three methods"
   ]
  },
  {
   "cell_type": "code",
   "execution_count": null,
   "metadata": {},
   "outputs": [],
   "source": [
    "def drawOval(self):\n",
    "\n",
    "    \"\"\"Draws a filled oval at a random position.\"\"\"\n",
    "\n",
    "    x = random.randint(20, 350)\n",
    "\n",
    "    y = random.randint(20, 120)\n",
    "\n",
    "    self.items.append(self.canvas.drawOval(x, y, x + 25, y + 25,\n",
    "\n",
    "                                           fill = \"blue\"))\n",
    "\n",
    " \n",
    "\n",
    "def drawText(self):\n",
    "\n",
    "    \"\"\"Draws 'Hello world!' at a random position.\"\"\"\n",
    "\n",
    "    x = random.randint(20, 350)\n",
    "\n",
    "    y = random.randint(20, 120)\n",
    "\n",
    "    self.items.append(self.canvas.drawText(\"Hello world!\", x, y,\n",
    "\n",
    "                                           fill = \"red\"))\n",
    "\n",
    " \n",
    "\n",
    "def clearAll(self):\n",
    "\n",
    "    \"\"\"Deletes all the shapes from the canvas.\"\"\"\n",
    "\n",
    "    for item in self.items:\n",
    "\n",
    "        self.canvas.deleteItem(item)\n",
    "\n",
    "    self.items = list()"
   ]
  },
  {
   "cell_type": "markdown",
   "metadata": {},
   "source": [
    "# Summary of EasyCanvas methods\n",
    "\n",
    "**deleteItem(itemID)**\n",
    "- Removes the item with the specified ID.  This ID is created and returned by the method that draws the item.\n",
    "\n",
    "**drawLine(x0, y0, x1, y1, fill = \"black\", width = 1)**\n",
    "- Draws a line segment between the specified end points, in the given color and width.\n",
    "\n",
    "**drawRect x0, y0, x1, y1, outline = \"black\", fill = None)**\n",
    "- Draws a rectangle with the given corner points, in the given outline color.  If fill is None, only the outline is drawn.\n",
    "\n",
    "**drawOval x0, y0, x1, y1, outline = \"black\", fill = None)**\n",
    "- Draws an oval within an imaginary rectangle with the given corner points, in the given outline color.  If fill is None, only the outline is drawn.\n",
    "\n",
    "**drawText(text, x, y, fill = \"black\")**\n",
    "- Draws the text centered on the given point, in the given fill color.\n",
    "\n",
    "**drawImage(image, x, y, anchor = CENTER)**\n",
    "- Draws the image (a PhotoImage), centered at the given coordinates."
   ]
  },
  {
   "cell_type": "markdown",
   "metadata": {},
   "source": [
    "The fill attribute of the text is its color (black by default); the fill attribute of each shape fills it with the specified color (None by default).  Ovals and rectangles also have an outline attribute, whose default value of black can be overridden. \n",
    "\n",
    "Several common or primary colors have string values, as the previous code segment shows.  Alternatively, a total of 224 distinct colors can be specified by using six-digit hexadecimal strings in the RGB (red/green/blue) color scheme.  For example, a shade of light gray is \"#DDDDDD\".   Each pair of digits, from left to right, specifies the intensity of red, green, and blue, respectively, in the color value.  The brightest intensity is FF (256), and the darkest is 00."
   ]
  },
  {
   "cell_type": "markdown",
   "metadata": {},
   "source": [
    "# Mouse Events \n",
    "A more highly interactive graphics program tracks the position of the mouse cursor in a canvas and responds to events such as mouse button presses, cursor movement, and dragging (a combination of the two).  For example, to draw an oval, the user might press the mouse button at the oval’s upper left corner, drag the cursor down to oval’s lower right corner, and release the mouse button.\n",
    "\n",
    "To develop an application that handles mouse events in a canvas, the programmer must use a different design pattern from the one just discussed.  In this new pattern, the programmer defines a new subclass of EasyCanvas.  The new subclass includes definitions of the methods that will respond to relevant mouse events in the canvas.  An instance of this class is then added to the window, as the optional canvas argument to the addCanvas method.  When a mouse event occurs in the canvas, the corresponding handler method is triggered.  Default handler methods that do nothing are also defined in EasyCanvas, but if the programmer overrides the relevant method in her subclass, the application can then respond to the event appropriately.  Here are the types of mouse events and their handler methods."
   ]
  },
  {
   "cell_type": "markdown",
   "metadata": {},
   "source": [
    "**mousePressed(event)**\n",
    "- Triggered when the left mouse button is pressed.  event.x and event.y hold the mouse cursor’s coordinates.\n",
    "\n",
    "**mouseReleased(event)**\n",
    "- Triggered when the left mouse button is released.  event.x and event.y hold the mouse cursor’s coordinates.\n",
    "\n",
    "**mouseMoved(event)**\n",
    "- Triggered when the mouse is moved.  event.x and event.y hold the mouse cursor’s coordinates.\n",
    "\n",
    "**mouseDragged(event)**\n",
    "- Triggered when the mouse is moved with left mouse button pressed.  event.x and event.y hold the mouse cursor’s coordinates.\n",
    "\n",
    "**mouseClicked(event)**\n",
    "- Triggered when the left mouse button is clicked.  event.x and event.y hold the mouse cursor’s coordinates."
   ]
  },
  {
   "cell_type": "markdown",
   "metadata": {},
   "source": [
    "This code  includes the definition of two new classes called LeftCanvas and RightCanvas. Both are subclasses of EasyCanvas.  The __init__ method adds an instance of each canvas class to the window, as shown in the next code segment.  Note that the constructor for each new canvas class expects self, the parent window, as an argument.  Also, the application window is no longer responsible for maintaining a list of items drawn in a canvas.  That’s the responsibility of the new canvas subclass."
   ]
  },
  {
   "cell_type": "code",
   "execution_count": null,
   "metadata": {},
   "outputs": [],
   "source": [
    "def __init__(self):\n",
    "\n",
    "    \"\"\"Sets up the window and widgets.\"\"\"\n",
    "\n",
    "    EasyFrame.__init__(self, title = \"Canvas Demo\")\n",
    "\n",
    " \n",
    "\n",
    "    # Add the labels\n",
    "\n",
    "    self.addLabel(text = \"Canvas 1\", row = 0, column = 0)\n",
    "\n",
    "    self.addLabel(text = \"Canvas 2\", row = 0, column = 1)\n",
    "\n",
    " \n",
    "\n",
    "    # Add the canvases\n",
    "\n",
    "    self.leftCanvas = self.addCanvas(canvas = LeftCanvas(self),\n",
    "\n",
    "                                     row = 1, column = 0)\n",
    "\n",
    "    rightCanvas = self.addCanvas(canvas = RightCanvas(self),\n",
    "\n",
    "                                 row = 1, column = 1)\n",
    "\n",
    "       \n",
    "\n",
    "    # Add the command button\n",
    "\n",
    "    self.button = self.addButton(text = \"Clear Shapes\",\n",
    "\n",
    "                                 row = 2, column = 0,\n",
    "\n",
    "                                 columnspan = 2,\n",
    "\n",
    "                                 command = self.clearAll)\n",
    "\n",
    "# Command button event handler\n",
    "\n",
    "def clearAll(self):\n",
    "\n",
    "    \"\"\"Deletes all shapes from left canvas.\"\"\"\n",
    "\n",
    "    self.leftCanvas.clearAll()"
   ]
  },
  {
   "cell_type": "markdown",
   "metadata": {},
   "source": [
    "The RightCanvas class, which draws the coordinates of each mouse press event, is the simpler of the two new canvas classes.  Its __init__ method sets its background color.  When a mouse is pressed in this canvas, the mousePressed method is triggered and receives the mouse event object as an argument.  As the next segment shows, this method uses the coordinates contained in this event to draw the text of the coordinates at that point on the canvas."
   ]
  },
  {
   "cell_type": "code",
   "execution_count": null,
   "metadata": {},
   "outputs": [],
   "source": [
    "class RightCanvas(EasyCanvas):\n",
    "\n",
    "    \"\"\"Displays the coordinates of the point where\n",
    "\n",
    "    the mouse is pressed.\"\"\"\n",
    "\n",
    " \n",
    "\n",
    "    def __init__(self, parent):\n",
    "\n",
    "        \"\"\"Background is medium blue.\"\"\"\n",
    "\n",
    "        EasyCanvas.__init__(self, parent, background = \"#0000CC\")\n",
    "\n",
    " \n",
    "\n",
    "    def mousePressed(self, event):\n",
    "\n",
    "        \"\"\"Draws the coordinates of the mouse press in white.\"\"\"\n",
    "\n",
    "        self.drawText(\"(\" + str(event.x) + \",\" + str(event.y) + \")\",\n",
    "\n",
    "                      event.x, event.y, fill = \"white\")"
   ]
  },
  {
   "cell_type": "markdown",
   "metadata": {},
   "source": [
    "The LeftCanvas class must respond to two types of mouse events, a press and a release.  When a press occurs, the canvas saves the current mouse cursor coordinates (method mousePressed).  When a release occurs, if the current mouse cursor coordinates are different from the earlier ones, the canvas uses these two pairs of coordinates to draw an oval (method mouseReleased).  The canvas also maintains a list of items drawn in it for eventual deletion (method clearAll).  The code for LeftCanvas is shown next."
   ]
  },
  {
   "cell_type": "code",
   "execution_count": null,
   "metadata": {},
   "outputs": [],
   "source": [
    "class LeftCanvas(EasyCanvas):\n",
    "\n",
    "    \"\"\"This canvas supports the drawing of ovals. \n",
    "\n",
    "    The user presses the mouse button at one corner and drags to\n",
    "\n",
    "    the other corner before releasing.\"\"\"\n",
    "\n",
    " \n",
    "\n",
    "    def __init__(self, parent):\n",
    "\n",
    "        \"\"\"Background is medium red.  Items drawn are tracked\n",
    "\n",
    "        for later erasing.\"\"\"\n",
    "\n",
    "        EasyCanvas.__init__(self, parent, background = \"#CC0000\")\n",
    "\n",
    "        self._items = list()\n",
    "\n",
    " \n",
    "\n",
    "    def mousePressed(self, event):\n",
    "\n",
    "        \"\"\"Sets the first corner of the oval's bounding rectangle.\"\"\"\n",
    "\n",
    "        self._x0 = event.x\n",
    "\n",
    "        self._y0 = event.y\n",
    "\n",
    " \n",
    "\n",
    "    def mouseReleased(self, event):\n",
    "\n",
    "        \"\"\"Sets the second corner of the oval's bounding rectangle.\n",
    "\n",
    "        Draws an oval filled in blue and saves its id.\"\"\"\n",
    "\n",
    "        if self._x0 != event.x and self._y0 != event.y:\n",
    "\n",
    "            item = self.drawOval(self._x0, self._y0,\n",
    "\n",
    "                                 event.x, event.y, fill = \"#0000CC\")\n",
    "\n",
    "            self._items.append(item)\n",
    "\n",
    " \n",
    "\n",
    "    def clearAll(self):\n",
    "\n",
    "        \"\"\"Deletes all ovals from left canvas.\"\"\"\n",
    "\n",
    "        for item in self._items:\n",
    "\n",
    "            self.deleteItem(item)\n",
    "\n",
    "        self._items = list()"
   ]
  },
  {
   "cell_type": "markdown",
   "metadata": {},
   "source": [
    "Although the second design pattern for the use of canvases is more complicated than the first one, it actually simplifies the structure of the application, by separating the responsibilities for managing each canvas from the responsibilities for managing the window."
   ]
  }
 ],
 "metadata": {
  "kernelspec": {
   "display_name": "Python 3",
   "language": "python",
   "name": "python3"
  },
  "language_info": {
   "codemirror_mode": {
    "name": "ipython",
    "version": 3
   },
   "file_extension": ".py",
   "mimetype": "text/x-python",
   "name": "python",
   "nbconvert_exporter": "python",
   "pygments_lexer": "ipython3",
   "version": "3.10.12"
  }
 },
 "nbformat": 4,
 "nbformat_minor": 2
}
